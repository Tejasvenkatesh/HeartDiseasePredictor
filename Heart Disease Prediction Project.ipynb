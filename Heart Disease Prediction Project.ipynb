{
 "cells": [
  {
   "cell_type": "markdown",
   "metadata": {},
   "source": [
    "# Heart Disease Prediction"
   ]
  },
  {
   "cell_type": "code",
   "execution_count": 1,
   "metadata": {},
   "outputs": [],
   "source": [
    "# Importing libraries\n",
    "import numpy as np\n",
    "import pandas as pd\n",
    "import matplotlib.pyplot as plt\n",
    "%matplotlib inline\n",
    "import seaborn as sns\n",
    "import warnings\n",
    "warnings.filterwarnings('ignore')"
   ]
  },
  {
   "cell_type": "code",
   "execution_count": 2,
   "metadata": {},
   "outputs": [],
   "source": [
    "# Import data\n",
    "data=pd.read_csv('C:/Users/divya/data/dataset.csv')"
   ]
  },
  {
   "cell_type": "code",
   "execution_count": 3,
   "metadata": {},
   "outputs": [
    {
     "data": {
      "text/html": [
       "<div>\n",
       "<style scoped>\n",
       "    .dataframe tbody tr th:only-of-type {\n",
       "        vertical-align: middle;\n",
       "    }\n",
       "\n",
       "    .dataframe tbody tr th {\n",
       "        vertical-align: top;\n",
       "    }\n",
       "\n",
       "    .dataframe thead th {\n",
       "        text-align: right;\n",
       "    }\n",
       "</style>\n",
       "<table border=\"1\" class=\"dataframe\">\n",
       "  <thead>\n",
       "    <tr style=\"text-align: right;\">\n",
       "      <th></th>\n",
       "      <th>age</th>\n",
       "      <th>sex</th>\n",
       "      <th>cp</th>\n",
       "      <th>trestbps</th>\n",
       "      <th>chol</th>\n",
       "      <th>fbs</th>\n",
       "      <th>restecg</th>\n",
       "      <th>thalach</th>\n",
       "      <th>exang</th>\n",
       "      <th>oldpeak</th>\n",
       "      <th>slope</th>\n",
       "      <th>ca</th>\n",
       "      <th>thal</th>\n",
       "      <th>target</th>\n",
       "    </tr>\n",
       "  </thead>\n",
       "  <tbody>\n",
       "    <tr>\n",
       "      <td>0</td>\n",
       "      <td>63</td>\n",
       "      <td>1</td>\n",
       "      <td>3</td>\n",
       "      <td>145</td>\n",
       "      <td>233</td>\n",
       "      <td>1</td>\n",
       "      <td>0</td>\n",
       "      <td>150</td>\n",
       "      <td>0</td>\n",
       "      <td>2.3</td>\n",
       "      <td>0</td>\n",
       "      <td>0.0</td>\n",
       "      <td>1</td>\n",
       "      <td>1</td>\n",
       "    </tr>\n",
       "    <tr>\n",
       "      <td>1</td>\n",
       "      <td>37</td>\n",
       "      <td>1</td>\n",
       "      <td>2</td>\n",
       "      <td>130</td>\n",
       "      <td>250</td>\n",
       "      <td>0</td>\n",
       "      <td>1</td>\n",
       "      <td>187</td>\n",
       "      <td>0</td>\n",
       "      <td>3.5</td>\n",
       "      <td>0</td>\n",
       "      <td>0.0</td>\n",
       "      <td>2</td>\n",
       "      <td>1</td>\n",
       "    </tr>\n",
       "    <tr>\n",
       "      <td>2</td>\n",
       "      <td>41</td>\n",
       "      <td>0</td>\n",
       "      <td>1</td>\n",
       "      <td>130</td>\n",
       "      <td>204</td>\n",
       "      <td>0</td>\n",
       "      <td>0</td>\n",
       "      <td>172</td>\n",
       "      <td>0</td>\n",
       "      <td>1.4</td>\n",
       "      <td>2</td>\n",
       "      <td>0.0</td>\n",
       "      <td>2</td>\n",
       "      <td>1</td>\n",
       "    </tr>\n",
       "    <tr>\n",
       "      <td>3</td>\n",
       "      <td>56</td>\n",
       "      <td>1</td>\n",
       "      <td>1</td>\n",
       "      <td>120</td>\n",
       "      <td>236</td>\n",
       "      <td>0</td>\n",
       "      <td>1</td>\n",
       "      <td>178</td>\n",
       "      <td>0</td>\n",
       "      <td>0.8</td>\n",
       "      <td>2</td>\n",
       "      <td>0.0</td>\n",
       "      <td>2</td>\n",
       "      <td>1</td>\n",
       "    </tr>\n",
       "    <tr>\n",
       "      <td>4</td>\n",
       "      <td>57</td>\n",
       "      <td>0</td>\n",
       "      <td>0</td>\n",
       "      <td>120</td>\n",
       "      <td>354</td>\n",
       "      <td>0</td>\n",
       "      <td>1</td>\n",
       "      <td>163</td>\n",
       "      <td>1</td>\n",
       "      <td>0.6</td>\n",
       "      <td>2</td>\n",
       "      <td>0.0</td>\n",
       "      <td>2</td>\n",
       "      <td>1</td>\n",
       "    </tr>\n",
       "  </tbody>\n",
       "</table>\n",
       "</div>"
      ],
      "text/plain": [
       "   age  sex  cp  trestbps  chol  fbs  restecg  thalach  exang  oldpeak  slope  \\\n",
       "0   63    1   3       145   233    1        0      150      0      2.3      0   \n",
       "1   37    1   2       130   250    0        1      187      0      3.5      0   \n",
       "2   41    0   1       130   204    0        0      172      0      1.4      2   \n",
       "3   56    1   1       120   236    0        1      178      0      0.8      2   \n",
       "4   57    0   0       120   354    0        1      163      1      0.6      2   \n",
       "\n",
       "    ca  thal  target  \n",
       "0  0.0     1       1  \n",
       "1  0.0     2       1  \n",
       "2  0.0     2       1  \n",
       "3  0.0     2       1  \n",
       "4  0.0     2       1  "
      ]
     },
     "execution_count": 3,
     "metadata": {},
     "output_type": "execute_result"
    }
   ],
   "source": [
    "data.head()"
   ]
  },
  {
   "cell_type": "code",
   "execution_count": 4,
   "metadata": {},
   "outputs": [
    {
     "name": "stdout",
     "output_type": "stream",
     "text": [
      "<class 'pandas.core.frame.DataFrame'>\n",
      "RangeIndex: 720 entries, 0 to 719\n",
      "Data columns (total 14 columns):\n",
      "age         720 non-null int64\n",
      "sex         720 non-null int64\n",
      "cp          720 non-null int64\n",
      "trestbps    720 non-null int64\n",
      "chol        720 non-null int64\n",
      "fbs         720 non-null int64\n",
      "restecg     720 non-null int64\n",
      "thalach     720 non-null int64\n",
      "exang       720 non-null int64\n",
      "oldpeak     720 non-null float64\n",
      "slope       720 non-null int64\n",
      "ca          708 non-null float64\n",
      "thal        720 non-null int64\n",
      "target      720 non-null int64\n",
      "dtypes: float64(2), int64(12)\n",
      "memory usage: 78.9 KB\n"
     ]
    }
   ],
   "source": [
    "data.info()"
   ]
  },
  {
   "cell_type": "code",
   "execution_count": 5,
   "metadata": {
    "scrolled": true
   },
   "outputs": [
    {
     "data": {
      "text/html": [
       "<div>\n",
       "<style scoped>\n",
       "    .dataframe tbody tr th:only-of-type {\n",
       "        vertical-align: middle;\n",
       "    }\n",
       "\n",
       "    .dataframe tbody tr th {\n",
       "        vertical-align: top;\n",
       "    }\n",
       "\n",
       "    .dataframe thead th {\n",
       "        text-align: right;\n",
       "    }\n",
       "</style>\n",
       "<table border=\"1\" class=\"dataframe\">\n",
       "  <thead>\n",
       "    <tr style=\"text-align: right;\">\n",
       "      <th></th>\n",
       "      <th>age</th>\n",
       "      <th>sex</th>\n",
       "      <th>cp</th>\n",
       "      <th>trestbps</th>\n",
       "      <th>chol</th>\n",
       "      <th>fbs</th>\n",
       "      <th>restecg</th>\n",
       "      <th>thalach</th>\n",
       "      <th>exang</th>\n",
       "      <th>oldpeak</th>\n",
       "      <th>slope</th>\n",
       "      <th>ca</th>\n",
       "      <th>thal</th>\n",
       "      <th>target</th>\n",
       "    </tr>\n",
       "  </thead>\n",
       "  <tbody>\n",
       "    <tr>\n",
       "      <td>count</td>\n",
       "      <td>720.000000</td>\n",
       "      <td>720.000000</td>\n",
       "      <td>720.000000</td>\n",
       "      <td>720.000000</td>\n",
       "      <td>720.000000</td>\n",
       "      <td>720.000000</td>\n",
       "      <td>720.000000</td>\n",
       "      <td>720.000000</td>\n",
       "      <td>720.000000</td>\n",
       "      <td>720.000000</td>\n",
       "      <td>720.000000</td>\n",
       "      <td>708.000000</td>\n",
       "      <td>720.000000</td>\n",
       "      <td>720.000000</td>\n",
       "    </tr>\n",
       "    <tr>\n",
       "      <td>mean</td>\n",
       "      <td>54.225000</td>\n",
       "      <td>0.618056</td>\n",
       "      <td>1.173611</td>\n",
       "      <td>159.065278</td>\n",
       "      <td>242.956944</td>\n",
       "      <td>0.259722</td>\n",
       "      <td>0.586111</td>\n",
       "      <td>150.641667</td>\n",
       "      <td>0.293056</td>\n",
       "      <td>1.012861</td>\n",
       "      <td>1.311111</td>\n",
       "      <td>0.639831</td>\n",
       "      <td>2.202778</td>\n",
       "      <td>0.515278</td>\n",
       "    </tr>\n",
       "    <tr>\n",
       "      <td>std</td>\n",
       "      <td>9.109865</td>\n",
       "      <td>0.486201</td>\n",
       "      <td>1.102090</td>\n",
       "      <td>51.282142</td>\n",
       "      <td>47.365117</td>\n",
       "      <td>0.438787</td>\n",
       "      <td>0.514952</td>\n",
       "      <td>21.378877</td>\n",
       "      <td>0.455480</td>\n",
       "      <td>1.130866</td>\n",
       "      <td>0.663274</td>\n",
       "      <td>0.987300</td>\n",
       "      <td>0.615509</td>\n",
       "      <td>0.500114</td>\n",
       "    </tr>\n",
       "    <tr>\n",
       "      <td>min</td>\n",
       "      <td>29.000000</td>\n",
       "      <td>0.000000</td>\n",
       "      <td>0.000000</td>\n",
       "      <td>94.000000</td>\n",
       "      <td>126.000000</td>\n",
       "      <td>0.000000</td>\n",
       "      <td>0.000000</td>\n",
       "      <td>71.000000</td>\n",
       "      <td>0.000000</td>\n",
       "      <td>0.000000</td>\n",
       "      <td>0.000000</td>\n",
       "      <td>0.000000</td>\n",
       "      <td>0.000000</td>\n",
       "      <td>0.000000</td>\n",
       "    </tr>\n",
       "    <tr>\n",
       "      <td>25%</td>\n",
       "      <td>47.000000</td>\n",
       "      <td>0.000000</td>\n",
       "      <td>0.000000</td>\n",
       "      <td>125.000000</td>\n",
       "      <td>207.750000</td>\n",
       "      <td>0.000000</td>\n",
       "      <td>0.000000</td>\n",
       "      <td>138.750000</td>\n",
       "      <td>0.000000</td>\n",
       "      <td>0.000000</td>\n",
       "      <td>1.000000</td>\n",
       "      <td>0.000000</td>\n",
       "      <td>2.000000</td>\n",
       "      <td>0.000000</td>\n",
       "    </tr>\n",
       "    <tr>\n",
       "      <td>50%</td>\n",
       "      <td>55.500000</td>\n",
       "      <td>1.000000</td>\n",
       "      <td>1.000000</td>\n",
       "      <td>140.000000</td>\n",
       "      <td>239.000000</td>\n",
       "      <td>0.000000</td>\n",
       "      <td>1.000000</td>\n",
       "      <td>153.000000</td>\n",
       "      <td>0.000000</td>\n",
       "      <td>0.600000</td>\n",
       "      <td>1.000000</td>\n",
       "      <td>0.000000</td>\n",
       "      <td>2.000000</td>\n",
       "      <td>1.000000</td>\n",
       "    </tr>\n",
       "    <tr>\n",
       "      <td>75%</td>\n",
       "      <td>61.000000</td>\n",
       "      <td>1.000000</td>\n",
       "      <td>2.000000</td>\n",
       "      <td>177.000000</td>\n",
       "      <td>272.000000</td>\n",
       "      <td>1.000000</td>\n",
       "      <td>1.000000</td>\n",
       "      <td>168.000000</td>\n",
       "      <td>1.000000</td>\n",
       "      <td>1.600000</td>\n",
       "      <td>2.000000</td>\n",
       "      <td>1.000000</td>\n",
       "      <td>3.000000</td>\n",
       "      <td>1.000000</td>\n",
       "    </tr>\n",
       "    <tr>\n",
       "      <td>max</td>\n",
       "      <td>77.000000</td>\n",
       "      <td>1.000000</td>\n",
       "      <td>3.000000</td>\n",
       "      <td>300.000000</td>\n",
       "      <td>564.000000</td>\n",
       "      <td>1.000000</td>\n",
       "      <td>2.000000</td>\n",
       "      <td>202.000000</td>\n",
       "      <td>1.000000</td>\n",
       "      <td>6.200000</td>\n",
       "      <td>2.000000</td>\n",
       "      <td>4.000000</td>\n",
       "      <td>3.000000</td>\n",
       "      <td>1.000000</td>\n",
       "    </tr>\n",
       "  </tbody>\n",
       "</table>\n",
       "</div>"
      ],
      "text/plain": [
       "              age         sex          cp    trestbps        chol         fbs  \\\n",
       "count  720.000000  720.000000  720.000000  720.000000  720.000000  720.000000   \n",
       "mean    54.225000    0.618056    1.173611  159.065278  242.956944    0.259722   \n",
       "std      9.109865    0.486201    1.102090   51.282142   47.365117    0.438787   \n",
       "min     29.000000    0.000000    0.000000   94.000000  126.000000    0.000000   \n",
       "25%     47.000000    0.000000    0.000000  125.000000  207.750000    0.000000   \n",
       "50%     55.500000    1.000000    1.000000  140.000000  239.000000    0.000000   \n",
       "75%     61.000000    1.000000    2.000000  177.000000  272.000000    1.000000   \n",
       "max     77.000000    1.000000    3.000000  300.000000  564.000000    1.000000   \n",
       "\n",
       "          restecg     thalach       exang     oldpeak       slope          ca  \\\n",
       "count  720.000000  720.000000  720.000000  720.000000  720.000000  708.000000   \n",
       "mean     0.586111  150.641667    0.293056    1.012861    1.311111    0.639831   \n",
       "std      0.514952   21.378877    0.455480    1.130866    0.663274    0.987300   \n",
       "min      0.000000   71.000000    0.000000    0.000000    0.000000    0.000000   \n",
       "25%      0.000000  138.750000    0.000000    0.000000    1.000000    0.000000   \n",
       "50%      1.000000  153.000000    0.000000    0.600000    1.000000    0.000000   \n",
       "75%      1.000000  168.000000    1.000000    1.600000    2.000000    1.000000   \n",
       "max      2.000000  202.000000    1.000000    6.200000    2.000000    4.000000   \n",
       "\n",
       "             thal      target  \n",
       "count  720.000000  720.000000  \n",
       "mean     2.202778    0.515278  \n",
       "std      0.615509    0.500114  \n",
       "min      0.000000    0.000000  \n",
       "25%      2.000000    0.000000  \n",
       "50%      2.000000    1.000000  \n",
       "75%      3.000000    1.000000  \n",
       "max      3.000000    1.000000  "
      ]
     },
     "execution_count": 5,
     "metadata": {},
     "output_type": "execute_result"
    }
   ],
   "source": [
    "# Understanding the data \n",
    "data.describe()"
   ]
  },
  {
   "cell_type": "code",
   "execution_count": 6,
   "metadata": {},
   "outputs": [
    {
     "data": {
      "text/plain": [
       "age          0\n",
       "sex          0\n",
       "cp           0\n",
       "trestbps     0\n",
       "chol         0\n",
       "fbs          0\n",
       "restecg      0\n",
       "thalach      0\n",
       "exang        0\n",
       "oldpeak      0\n",
       "slope        0\n",
       "ca          12\n",
       "thal         0\n",
       "target       0\n",
       "dtype: int64"
      ]
     },
     "execution_count": 6,
     "metadata": {},
     "output_type": "execute_result"
    }
   ],
   "source": [
    "# to check null values in data\n",
    "data.isnull().sum()"
   ]
  },
  {
   "cell_type": "code",
   "execution_count": 7,
   "metadata": {},
   "outputs": [],
   "source": [
    "data=data.dropna(how='any',axis=0)"
   ]
  },
  {
   "cell_type": "markdown",
   "metadata": {},
   "source": [
    "No.of people with respect to sex and age having heart disease or not"
   ]
  },
  {
   "cell_type": "code",
   "execution_count": 9,
   "metadata": {},
   "outputs": [
    {
     "data": {
      "text/plain": [
       "Text(0.5, 1.0, 'Analyzing Chest pain types')"
      ]
     },
     "execution_count": 9,
     "metadata": {},
     "output_type": "execute_result"
    },
    {
     "data": {
      "image/png": "[encoded data removed]",
      "text/plain": [
       "<Figure size 432x288 with 1 Axes>"
      ]
     },
     "metadata": {
      "needs_background": "light"
     },
     "output_type": "display_data"
    }
   ],
   "source": [
    "sns.countplot(x='cp',hue='target',data=data)\n",
    "plt.xlabel(\"Chest Pain Types\")\n",
    "plt.title(\"Analyzing Chest pain types\")"
   ]
  },
  {
   "cell_type": "code",
   "execution_count": 10,
   "metadata": {},
   "outputs": [
    {
     "data": {
      "image/png": "[encoded data removed]",
      "text/plain": [
       "<Figure size 432x288 with 1 Axes>"
      ]
     },
     "metadata": {
      "needs_background": "light"
     },
     "output_type": "display_data"
    }
   ],
   "source": [
    "plt.scatter(x=data.age[data.target==1], y=data.thalach[(data.target==1)], c=\"green\")\n",
    "plt.scatter(x=data.age[data.target==0], y=data.thalach[(data.target==0)], c = 'black')\n",
    "plt.legend([\"Disease\", \"Not Disease\"])\n",
    "plt.xlabel(\"Age\")\n",
    "plt.ylabel(\"Maximum Heart Rate\")\n",
    "plt.show()"
   ]
  },
  {
   "cell_type": "code",
   "execution_count": 11,
   "metadata": {},
   "outputs": [
    {
     "data": {
      "text/plain": [
       "Text(0.5, 0, 'Age')"
      ]
     },
     "execution_count": 11,
     "metadata": {},
     "output_type": "execute_result"
    },
    {
     "data": {
      "image/png": "[encoded data removed]",
      "text/plain": [
       "<Figure size 1440x1800 with 1 Axes>"
      ]
     },
     "metadata": {
      "needs_background": "light"
     },
     "output_type": "display_data"
    }
   ],
   "source": [
    "plt.figure(figsize=(20,25))\n",
    "sns.countplot(x='age',hue='target',data=data)\n",
    "plt.title('Variation of Age for each target class')\n",
    "plt.xlabel(\"Age\")"
   ]
  },
  {
   "cell_type": "code",
   "execution_count": 13,
   "metadata": {},
   "outputs": [],
   "source": [
    "# to see correlation"
   ]
  },
  {
   "cell_type": "code",
   "execution_count": 14,
   "metadata": {},
   "outputs": [],
   "source": [
    "corrmat=data.corr()"
   ]
  },
  {
   "cell_type": "code",
   "execution_count": 15,
   "metadata": {},
   "outputs": [
    {
     "data": {
      "text/html": [
       "<div>\n",
       "<style scoped>\n",
       "    .dataframe tbody tr th:only-of-type {\n",
       "        vertical-align: middle;\n",
       "    }\n",
       "\n",
       "    .dataframe tbody tr th {\n",
       "        vertical-align: top;\n",
       "    }\n",
       "\n",
       "    .dataframe thead th {\n",
       "        text-align: right;\n",
       "    }\n",
       "</style>\n",
       "<table border=\"1\" class=\"dataframe\">\n",
       "  <thead>\n",
       "    <tr style=\"text-align: right;\">\n",
       "      <th></th>\n",
       "      <th>age</th>\n",
       "      <th>sex</th>\n",
       "      <th>cp</th>\n",
       "      <th>trestbps</th>\n",
       "      <th>chol</th>\n",
       "      <th>fbs</th>\n",
       "      <th>restecg</th>\n",
       "      <th>thalach</th>\n",
       "      <th>exang</th>\n",
       "      <th>oldpeak</th>\n",
       "      <th>slope</th>\n",
       "      <th>ca</th>\n",
       "      <th>thal</th>\n",
       "      <th>target</th>\n",
       "    </tr>\n",
       "  </thead>\n",
       "  <tbody>\n",
       "    <tr>\n",
       "      <td>age</td>\n",
       "      <td>1.000000</td>\n",
       "      <td>-0.114061</td>\n",
       "      <td>-0.018240</td>\n",
       "      <td>0.006569</td>\n",
       "      <td>0.147204</td>\n",
       "      <td>0.054673</td>\n",
       "      <td>-0.058485</td>\n",
       "      <td>-0.314481</td>\n",
       "      <td>0.060241</td>\n",
       "      <td>0.148536</td>\n",
       "      <td>-0.070766</td>\n",
       "      <td>0.225826</td>\n",
       "      <td>0.041398</td>\n",
       "      <td>-0.134921</td>\n",
       "    </tr>\n",
       "    <tr>\n",
       "      <td>sex</td>\n",
       "      <td>-0.114061</td>\n",
       "      <td>1.000000</td>\n",
       "      <td>-0.063690</td>\n",
       "      <td>-0.141650</td>\n",
       "      <td>-0.119498</td>\n",
       "      <td>-0.018151</td>\n",
       "      <td>-0.082867</td>\n",
       "      <td>-0.044293</td>\n",
       "      <td>0.098766</td>\n",
       "      <td>0.093716</td>\n",
       "      <td>-0.019120</td>\n",
       "      <td>0.081095</td>\n",
       "      <td>0.191493</td>\n",
       "      <td>-0.173117</td>\n",
       "    </tr>\n",
       "    <tr>\n",
       "      <td>cp</td>\n",
       "      <td>-0.018240</td>\n",
       "      <td>-0.063690</td>\n",
       "      <td>1.000000</td>\n",
       "      <td>0.192718</td>\n",
       "      <td>-0.053220</td>\n",
       "      <td>0.158215</td>\n",
       "      <td>0.055563</td>\n",
       "      <td>0.258531</td>\n",
       "      <td>-0.248189</td>\n",
       "      <td>-0.123962</td>\n",
       "      <td>0.038351</td>\n",
       "      <td>-0.188744</td>\n",
       "      <td>-0.139175</td>\n",
       "      <td>0.299538</td>\n",
       "    </tr>\n",
       "    <tr>\n",
       "      <td>trestbps</td>\n",
       "      <td>0.006569</td>\n",
       "      <td>-0.141650</td>\n",
       "      <td>0.192718</td>\n",
       "      <td>1.000000</td>\n",
       "      <td>-0.085444</td>\n",
       "      <td>0.346110</td>\n",
       "      <td>0.078040</td>\n",
       "      <td>0.105835</td>\n",
       "      <td>-0.081895</td>\n",
       "      <td>-0.024697</td>\n",
       "      <td>-0.131641</td>\n",
       "      <td>-0.073098</td>\n",
       "      <td>-0.157665</td>\n",
       "      <td>0.000830</td>\n",
       "    </tr>\n",
       "    <tr>\n",
       "      <td>chol</td>\n",
       "      <td>0.147204</td>\n",
       "      <td>-0.119498</td>\n",
       "      <td>-0.053220</td>\n",
       "      <td>-0.085444</td>\n",
       "      <td>1.000000</td>\n",
       "      <td>-0.041795</td>\n",
       "      <td>-0.102075</td>\n",
       "      <td>-0.012299</td>\n",
       "      <td>0.081199</td>\n",
       "      <td>0.055046</td>\n",
       "      <td>0.001769</td>\n",
       "      <td>0.067090</td>\n",
       "      <td>0.113798</td>\n",
       "      <td>-0.059597</td>\n",
       "    </tr>\n",
       "    <tr>\n",
       "      <td>fbs</td>\n",
       "      <td>0.054673</td>\n",
       "      <td>-0.018151</td>\n",
       "      <td>0.158215</td>\n",
       "      <td>0.346110</td>\n",
       "      <td>-0.041795</td>\n",
       "      <td>1.000000</td>\n",
       "      <td>-0.023473</td>\n",
       "      <td>0.053092</td>\n",
       "      <td>-0.030228</td>\n",
       "      <td>-0.036726</td>\n",
       "      <td>-0.102985</td>\n",
       "      <td>0.035679</td>\n",
       "      <td>-0.104372</td>\n",
       "      <td>-0.000766</td>\n",
       "    </tr>\n",
       "    <tr>\n",
       "      <td>restecg</td>\n",
       "      <td>-0.058485</td>\n",
       "      <td>-0.082867</td>\n",
       "      <td>0.055563</td>\n",
       "      <td>0.078040</td>\n",
       "      <td>-0.102075</td>\n",
       "      <td>-0.023473</td>\n",
       "      <td>1.000000</td>\n",
       "      <td>0.025695</td>\n",
       "      <td>-0.068995</td>\n",
       "      <td>-0.035755</td>\n",
       "      <td>0.008628</td>\n",
       "      <td>-0.072911</td>\n",
       "      <td>0.001108</td>\n",
       "      <td>0.073134</td>\n",
       "    </tr>\n",
       "    <tr>\n",
       "      <td>thalach</td>\n",
       "      <td>-0.314481</td>\n",
       "      <td>-0.044293</td>\n",
       "      <td>0.258531</td>\n",
       "      <td>0.105835</td>\n",
       "      <td>-0.012299</td>\n",
       "      <td>0.053092</td>\n",
       "      <td>0.025695</td>\n",
       "      <td>1.000000</td>\n",
       "      <td>-0.273627</td>\n",
       "      <td>-0.315393</td>\n",
       "      <td>0.273625</td>\n",
       "      <td>-0.230133</td>\n",
       "      <td>-0.093870</td>\n",
       "      <td>0.338389</td>\n",
       "    </tr>\n",
       "    <tr>\n",
       "      <td>exang</td>\n",
       "      <td>0.060241</td>\n",
       "      <td>0.098766</td>\n",
       "      <td>-0.248189</td>\n",
       "      <td>-0.081895</td>\n",
       "      <td>0.081199</td>\n",
       "      <td>-0.030228</td>\n",
       "      <td>-0.068995</td>\n",
       "      <td>-0.273627</td>\n",
       "      <td>1.000000</td>\n",
       "      <td>0.218497</td>\n",
       "      <td>-0.147439</td>\n",
       "      <td>0.074080</td>\n",
       "      <td>0.157084</td>\n",
       "      <td>-0.304223</td>\n",
       "    </tr>\n",
       "    <tr>\n",
       "      <td>oldpeak</td>\n",
       "      <td>0.148536</td>\n",
       "      <td>0.093716</td>\n",
       "      <td>-0.123962</td>\n",
       "      <td>-0.024697</td>\n",
       "      <td>0.055046</td>\n",
       "      <td>-0.036726</td>\n",
       "      <td>-0.035755</td>\n",
       "      <td>-0.315393</td>\n",
       "      <td>0.218497</td>\n",
       "      <td>1.000000</td>\n",
       "      <td>-0.380777</td>\n",
       "      <td>0.193262</td>\n",
       "      <td>0.164415</td>\n",
       "      <td>-0.328256</td>\n",
       "    </tr>\n",
       "    <tr>\n",
       "      <td>slope</td>\n",
       "      <td>-0.070766</td>\n",
       "      <td>-0.019120</td>\n",
       "      <td>0.038351</td>\n",
       "      <td>-0.131641</td>\n",
       "      <td>0.001769</td>\n",
       "      <td>-0.102985</td>\n",
       "      <td>0.008628</td>\n",
       "      <td>0.273625</td>\n",
       "      <td>-0.147439</td>\n",
       "      <td>-0.380777</td>\n",
       "      <td>1.000000</td>\n",
       "      <td>-0.046304</td>\n",
       "      <td>-0.020325</td>\n",
       "      <td>0.235532</td>\n",
       "    </tr>\n",
       "    <tr>\n",
       "      <td>ca</td>\n",
       "      <td>0.225826</td>\n",
       "      <td>0.081095</td>\n",
       "      <td>-0.188744</td>\n",
       "      <td>-0.073098</td>\n",
       "      <td>0.067090</td>\n",
       "      <td>0.035679</td>\n",
       "      <td>-0.072911</td>\n",
       "      <td>-0.230133</td>\n",
       "      <td>0.074080</td>\n",
       "      <td>0.193262</td>\n",
       "      <td>-0.046304</td>\n",
       "      <td>1.000000</td>\n",
       "      <td>0.078623</td>\n",
       "      <td>-0.273530</td>\n",
       "    </tr>\n",
       "    <tr>\n",
       "      <td>thal</td>\n",
       "      <td>0.041398</td>\n",
       "      <td>0.191493</td>\n",
       "      <td>-0.139175</td>\n",
       "      <td>-0.157665</td>\n",
       "      <td>0.113798</td>\n",
       "      <td>-0.104372</td>\n",
       "      <td>0.001108</td>\n",
       "      <td>-0.093870</td>\n",
       "      <td>0.157084</td>\n",
       "      <td>0.164415</td>\n",
       "      <td>-0.020325</td>\n",
       "      <td>0.078623</td>\n",
       "      <td>1.000000</td>\n",
       "      <td>-0.225982</td>\n",
       "    </tr>\n",
       "    <tr>\n",
       "      <td>target</td>\n",
       "      <td>-0.134921</td>\n",
       "      <td>-0.173117</td>\n",
       "      <td>0.299538</td>\n",
       "      <td>0.000830</td>\n",
       "      <td>-0.059597</td>\n",
       "      <td>-0.000766</td>\n",
       "      <td>0.073134</td>\n",
       "      <td>0.338389</td>\n",
       "      <td>-0.304223</td>\n",
       "      <td>-0.328256</td>\n",
       "      <td>0.235532</td>\n",
       "      <td>-0.273530</td>\n",
       "      <td>-0.225982</td>\n",
       "      <td>1.000000</td>\n",
       "    </tr>\n",
       "  </tbody>\n",
       "</table>\n",
       "</div>"
      ],
      "text/plain": [
       "               age       sex        cp  trestbps      chol       fbs  \\\n",
       "age       1.000000 -0.114061 -0.018240  0.006569  0.147204  0.054673   \n",
       "sex      -0.114061  1.000000 -0.063690 -0.141650 -0.119498 -0.018151   \n",
       "cp       -0.018240 -0.063690  1.000000  0.192718 -0.053220  0.158215   \n",
       "trestbps  0.006569 -0.141650  0.192718  1.000000 -0.085444  0.346110   \n",
       "chol      0.147204 -0.119498 -0.053220 -0.085444  1.000000 -0.041795   \n",
       "fbs       0.054673 -0.018151  0.158215  0.346110 -0.041795  1.000000   \n",
       "restecg  -0.058485 -0.082867  0.055563  0.078040 -0.102075 -0.023473   \n",
       "thalach  -0.314481 -0.044293  0.258531  0.105835 -0.012299  0.053092   \n",
       "exang     0.060241  0.098766 -0.248189 -0.081895  0.081199 -0.030228   \n",
       "oldpeak   0.148536  0.093716 -0.123962 -0.024697  0.055046 -0.036726   \n",
       "slope    -0.070766 -0.019120  0.038351 -0.131641  0.001769 -0.102985   \n",
       "ca        0.225826  0.081095 -0.188744 -0.073098  0.067090  0.035679   \n",
       "thal      0.041398  0.191493 -0.139175 -0.157665  0.113798 -0.104372   \n",
       "target   -0.134921 -0.173117  0.299538  0.000830 -0.059597 -0.000766   \n",
       "\n",
       "           restecg   thalach     exang   oldpeak     slope        ca  \\\n",
       "age      -0.058485 -0.314481  0.060241  0.148536 -0.070766  0.225826   \n",
       "sex      -0.082867 -0.044293  0.098766  0.093716 -0.019120  0.081095   \n",
       "cp        0.055563  0.258531 -0.248189 -0.123962  0.038351 -0.188744   \n",
       "trestbps  0.078040  0.105835 -0.081895 -0.024697 -0.131641 -0.073098   \n",
       "chol     -0.102075 -0.012299  0.081199  0.055046  0.001769  0.067090   \n",
       "fbs      -0.023473  0.053092 -0.030228 -0.036726 -0.102985  0.035679   \n",
       "restecg   1.000000  0.025695 -0.068995 -0.035755  0.008628 -0.072911   \n",
       "thalach   0.025695  1.000000 -0.273627 -0.315393  0.273625 -0.230133   \n",
       "exang    -0.068995 -0.273627  1.000000  0.218497 -0.147439  0.074080   \n",
       "oldpeak  -0.035755 -0.315393  0.218497  1.000000 -0.380777  0.193262   \n",
       "slope     0.008628  0.273625 -0.147439 -0.380777  1.000000 -0.046304   \n",
       "ca       -0.072911 -0.230133  0.074080  0.193262 -0.046304  1.000000   \n",
       "thal      0.001108 -0.093870  0.157084  0.164415 -0.020325  0.078623   \n",
       "target    0.073134  0.338389 -0.304223 -0.328256  0.235532 -0.273530   \n",
       "\n",
       "              thal    target  \n",
       "age       0.041398 -0.134921  \n",
       "sex       0.191493 -0.173117  \n",
       "cp       -0.139175  0.299538  \n",
       "trestbps -0.157665  0.000830  \n",
       "chol      0.113798 -0.059597  \n",
       "fbs      -0.104372 -0.000766  \n",
       "restecg   0.001108  0.073134  \n",
       "thalach  -0.093870  0.338389  \n",
       "exang     0.157084 -0.304223  \n",
       "oldpeak   0.164415 -0.328256  \n",
       "slope    -0.020325  0.235532  \n",
       "ca        0.078623 -0.273530  \n",
       "thal      1.000000 -0.225982  \n",
       "target   -0.225982  1.000000  "
      ]
     },
     "execution_count": 15,
     "metadata": {},
     "output_type": "execute_result"
    }
   ],
   "source": [
    "corrmat"
   ]
  },
  {
   "cell_type": "code",
   "execution_count": 16,
   "metadata": {},
   "outputs": [
    {
     "data": {
      "text/plain": [
       "<matplotlib.axes._subplots.AxesSubplot at 0x18b298b5b38>"
      ]
     },
     "execution_count": 16,
     "metadata": {},
     "output_type": "execute_result"
    },
    {
     "data": {
      "image/png": "[encoded data removed]",
      "text/plain": [
       "<Figure size 1440x720 with 2 Axes>"
      ]
     },
     "metadata": {
      "needs_background": "light"
     },
     "output_type": "display_data"
    }
   ],
   "source": [
    "# plot correlation matrix\n",
    "fig, ax=plt.subplots(figsize=(20,10))\n",
    "sns.heatmap(corrmat, annot=True)"
   ]
  },
  {
   "cell_type": "code",
   "execution_count": 18,
   "metadata": {},
   "outputs": [
    {
     "data": {
      "text/plain": [
       "array([[<matplotlib.axes._subplots.AxesSubplot object at 0x0000018B298B5C88>,\n",
       "        <matplotlib.axes._subplots.AxesSubplot object at 0x0000018B2C78E6A0>,\n",
       "        <matplotlib.axes._subplots.AxesSubplot object at 0x0000018B2C7BFBA8>,\n",
       "        <matplotlib.axes._subplots.AxesSubplot object at 0x0000018B2C7FD198>],\n",
       "       [<matplotlib.axes._subplots.AxesSubplot object at 0x0000018B2C742DD8>,\n",
       "        <matplotlib.axes._subplots.AxesSubplot object at 0x0000018B2C860518>,\n",
       "        <matplotlib.axes._subplots.AxesSubplot object at 0x0000018B2C895AC8>,\n",
       "        <matplotlib.axes._subplots.AxesSubplot object at 0x0000018B2C8D20F0>],\n",
       "       [<matplotlib.axes._subplots.AxesSubplot object at 0x0000018B2C8D2128>,\n",
       "        <matplotlib.axes._subplots.AxesSubplot object at 0x0000018B2C934C18>,\n",
       "        <matplotlib.axes._subplots.AxesSubplot object at 0x0000018B2C973208>,\n",
       "        <matplotlib.axes._subplots.AxesSubplot object at 0x0000018B2C9A27B8>],\n",
       "       [<matplotlib.axes._subplots.AxesSubplot object at 0x0000018B2C9D5D68>,\n",
       "        <matplotlib.axes._subplots.AxesSubplot object at 0x0000018B2CA14358>,\n",
       "        <matplotlib.axes._subplots.AxesSubplot object at 0x0000018B2CA43908>,\n",
       "        <matplotlib.axes._subplots.AxesSubplot object at 0x0000018B2CA75EB8>]],\n",
       "      dtype=object)"
      ]
     },
     "execution_count": 18,
     "metadata": {},
     "output_type": "execute_result"
    },
    {
     "data": {
      "image/png": "[encoded data removed]",
      "text/plain": [
       "<Figure size 1296x1296 with 16 Axes>"
      ]
     },
     "metadata": {
      "needs_background": "light"
     },
     "output_type": "display_data"
    }
   ],
   "source": [
    "#Shows distribution of the data\n",
    "fig=plt.figure(figsize=(18,18))\n",
    "ax=fig.gca()\n",
    "data.hist(ax=ax,bins=30)\n"
   ]
  },
  {
   "cell_type": "code",
   "execution_count": 19,
   "metadata": {},
   "outputs": [
    {
     "data": {
      "text/plain": [
       "1    368\n",
       "0    340\n",
       "Name: target, dtype: int64"
      ]
     },
     "execution_count": 19,
     "metadata": {},
     "output_type": "execute_result"
    }
   ],
   "source": [
    "data['target'].value_counts() # to check whether target column is balanced or not"
   ]
  },
  {
   "cell_type": "code",
   "execution_count": 20,
   "metadata": {},
   "outputs": [
    {
     "data": {
      "image/png": "[encoded data removed]",
      "text/plain": [
       "<Figure size 432x432 with 3 Axes>"
      ]
     },
     "metadata": {
      "needs_background": "light"
     },
     "output_type": "display_data"
    }
   ],
   "source": [
    "g=sns.jointplot(x=\"age\", y=\"trestbps\", data=data, color=\"r\")\n",
    "plt.subplots_adjust(top=.9)\n",
    "g.fig.suptitle('Age v/s resting blood pressure (in mm Hg on admission to the hospital)') \n",
    "plt.show()"
   ]
  },
  {
   "cell_type": "code",
   "execution_count": 21,
   "metadata": {},
   "outputs": [
    {
     "data": {
      "image/png": "[encoded data removed]",
      "text/plain": [
       "<Figure size 432x432 with 3 Axes>"
      ]
     },
     "metadata": {
      "needs_background": "light"
     },
     "output_type": "display_data"
    }
   ],
   "source": [
    "g=sns.jointplot(x=\"age\", y=\"cp\", data=data, color=\"r\")\n",
    "plt.subplots_adjust(top=.9)\n",
    "g.fig.suptitle('Age v/s chest pain') \n",
    "plt.show()"
   ]
  },
  {
   "cell_type": "code",
   "execution_count": 22,
   "metadata": {},
   "outputs": [
    {
     "data": {
      "text/html": [
       "<div>\n",
       "<style scoped>\n",
       "    .dataframe tbody tr th:only-of-type {\n",
       "        vertical-align: middle;\n",
       "    }\n",
       "\n",
       "    .dataframe tbody tr th {\n",
       "        vertical-align: top;\n",
       "    }\n",
       "\n",
       "    .dataframe thead th {\n",
       "        text-align: right;\n",
       "    }\n",
       "</style>\n",
       "<table border=\"1\" class=\"dataframe\">\n",
       "  <thead>\n",
       "    <tr style=\"text-align: right;\">\n",
       "      <th></th>\n",
       "      <th>age</th>\n",
       "      <th>sex</th>\n",
       "      <th>cp</th>\n",
       "      <th>trestbps</th>\n",
       "      <th>chol</th>\n",
       "      <th>fbs</th>\n",
       "      <th>restecg</th>\n",
       "      <th>thalach</th>\n",
       "      <th>exang</th>\n",
       "      <th>oldpeak</th>\n",
       "      <th>slope</th>\n",
       "      <th>ca</th>\n",
       "      <th>thal</th>\n",
       "      <th>target</th>\n",
       "    </tr>\n",
       "  </thead>\n",
       "  <tbody>\n",
       "    <tr>\n",
       "      <td>0</td>\n",
       "      <td>63</td>\n",
       "      <td>1</td>\n",
       "      <td>3</td>\n",
       "      <td>145</td>\n",
       "      <td>233</td>\n",
       "      <td>1</td>\n",
       "      <td>0</td>\n",
       "      <td>150</td>\n",
       "      <td>0</td>\n",
       "      <td>2.3</td>\n",
       "      <td>0</td>\n",
       "      <td>0.0</td>\n",
       "      <td>1</td>\n",
       "      <td>1</td>\n",
       "    </tr>\n",
       "    <tr>\n",
       "      <td>1</td>\n",
       "      <td>37</td>\n",
       "      <td>1</td>\n",
       "      <td>2</td>\n",
       "      <td>130</td>\n",
       "      <td>250</td>\n",
       "      <td>0</td>\n",
       "      <td>1</td>\n",
       "      <td>187</td>\n",
       "      <td>0</td>\n",
       "      <td>3.5</td>\n",
       "      <td>0</td>\n",
       "      <td>0.0</td>\n",
       "      <td>2</td>\n",
       "      <td>1</td>\n",
       "    </tr>\n",
       "    <tr>\n",
       "      <td>2</td>\n",
       "      <td>41</td>\n",
       "      <td>0</td>\n",
       "      <td>1</td>\n",
       "      <td>130</td>\n",
       "      <td>204</td>\n",
       "      <td>0</td>\n",
       "      <td>0</td>\n",
       "      <td>172</td>\n",
       "      <td>0</td>\n",
       "      <td>1.4</td>\n",
       "      <td>2</td>\n",
       "      <td>0.0</td>\n",
       "      <td>2</td>\n",
       "      <td>1</td>\n",
       "    </tr>\n",
       "    <tr>\n",
       "      <td>3</td>\n",
       "      <td>56</td>\n",
       "      <td>1</td>\n",
       "      <td>1</td>\n",
       "      <td>120</td>\n",
       "      <td>236</td>\n",
       "      <td>0</td>\n",
       "      <td>1</td>\n",
       "      <td>178</td>\n",
       "      <td>0</td>\n",
       "      <td>0.8</td>\n",
       "      <td>2</td>\n",
       "      <td>0.0</td>\n",
       "      <td>2</td>\n",
       "      <td>1</td>\n",
       "    </tr>\n",
       "    <tr>\n",
       "      <td>4</td>\n",
       "      <td>57</td>\n",
       "      <td>0</td>\n",
       "      <td>0</td>\n",
       "      <td>120</td>\n",
       "      <td>354</td>\n",
       "      <td>0</td>\n",
       "      <td>1</td>\n",
       "      <td>163</td>\n",
       "      <td>1</td>\n",
       "      <td>0.6</td>\n",
       "      <td>2</td>\n",
       "      <td>0.0</td>\n",
       "      <td>2</td>\n",
       "      <td>1</td>\n",
       "    </tr>\n",
       "  </tbody>\n",
       "</table>\n",
       "</div>"
      ],
      "text/plain": [
       "   age  sex  cp  trestbps  chol  fbs  restecg  thalach  exang  oldpeak  slope  \\\n",
       "0   63    1   3       145   233    1        0      150      0      2.3      0   \n",
       "1   37    1   2       130   250    0        1      187      0      3.5      0   \n",
       "2   41    0   1       130   204    0        0      172      0      1.4      2   \n",
       "3   56    1   1       120   236    0        1      178      0      0.8      2   \n",
       "4   57    0   0       120   354    0        1      163      1      0.6      2   \n",
       "\n",
       "    ca  thal  target  \n",
       "0  0.0     1       1  \n",
       "1  0.0     2       1  \n",
       "2  0.0     2       1  \n",
       "3  0.0     2       1  \n",
       "4  0.0     2       1  "
      ]
     },
     "execution_count": 22,
     "metadata": {},
     "output_type": "execute_result"
    }
   ],
   "source": [
    "data.head()"
   ]
  },
  {
   "cell_type": "code",
   "execution_count": 23,
   "metadata": {},
   "outputs": [],
   "source": [
    "X= data.iloc[:,0:13].values\n",
    "y=data.iloc[:,13].values"
   ]
  },
  {
   "cell_type": "code",
   "execution_count": 24,
   "metadata": {},
   "outputs": [],
   "source": [
    "from sklearn.model_selection import train_test_split\n",
    "X_train,X_test,y_train,y_test=train_test_split(X,y,test_size=0.2, random_state=0)"
   ]
  },
  {
   "cell_type": "code",
   "execution_count": 25,
   "metadata": {},
   "outputs": [],
   "source": [
    "# scaling features"
   ]
  },
  {
   "cell_type": "code",
   "execution_count": 26,
   "metadata": {},
   "outputs": [],
   "source": [
    "from sklearn.preprocessing import StandardScaler\n",
    "sc=StandardScaler()\n",
    "X_train=sc.fit_transform(X_train)\n",
    "X_test=sc.transform(X_test)"
   ]
  },
  {
   "cell_type": "code",
   "execution_count": 58,
   "metadata": {
    "scrolled": true
   },
   "outputs": [
    {
     "data": {
      "text/plain": [
       "RandomForestClassifier(bootstrap=True, class_weight=None, criterion='gini',\n",
       "                       max_depth=None, max_features='auto', max_leaf_nodes=None,\n",
       "                       min_impurity_decrease=0.0, min_impurity_split=None,\n",
       "                       min_samples_leaf=1, min_samples_split=2,\n",
       "                       min_weight_fraction_leaf=0.0, n_estimators=10,\n",
       "                       n_jobs=None, oob_score=False, random_state=None,\n",
       "                       verbose=0, warm_start=False)"
      ]
     },
     "execution_count": 58,
     "metadata": {},
     "output_type": "execute_result"
    }
   ],
   "source": [
    "# Using Random Forest Classifier\n",
    "from sklearn.ensemble import RandomForestClassifier\n",
    "classfier=RandomForestClassifier(n_estimators=10)\n",
    "classfier.fit(X_train,y_train)\n"
   ]
  },
  {
   "cell_type": "code",
   "execution_count": 59,
   "metadata": {},
   "outputs": [],
   "source": [
    "y_pred=classfier.predict(X_test)"
   ]
  },
  {
   "cell_type": "code",
   "execution_count": 60,
   "metadata": {},
   "outputs": [
    {
     "data": {
      "text/plain": [
       "array([[54, 19],\n",
       "       [17, 52]], dtype=int64)"
      ]
     },
     "execution_count": 60,
     "metadata": {},
     "output_type": "execute_result"
    }
   ],
   "source": [
    "# Confusion Matrix\n",
    "from sklearn.metrics import confusion_matrix\n",
    "cm=confusion_matrix(y_test,y_pred)\n",
    "cm\n"
   ]
  },
  {
   "cell_type": "code",
   "execution_count": 61,
   "metadata": {},
   "outputs": [],
   "source": [
    "from sklearn.metrics import confusion_matrix"
   ]
  },
  {
   "cell_type": "code",
   "execution_count": 62,
   "metadata": {},
   "outputs": [
    {
     "data": {
      "image/png": "[encoded data removed]",
      "text/plain": [
       "<Figure size 432x288 with 2 Axes>"
      ]
     },
     "metadata": {},
     "output_type": "display_data"
    }
   ],
   "source": [
    "df_cm = pd.DataFrame(cm)\n",
    "# plt.figure(figsize=(10,7))\n",
    "sns.set(font_scale=1.4) # for label size\n",
    "sns.heatmap(df_cm, annot=True, annot_kws={\"size\": 16}) # font size\n",
    "\n",
    "plt.show()"
   ]
  },
  {
   "cell_type": "code",
   "execution_count": 32,
   "metadata": {},
   "outputs": [
    {
     "data": {
      "text/plain": [
       "0.823943661971831"
      ]
     },
     "execution_count": 32,
     "metadata": {},
     "output_type": "execute_result"
    }
   ],
   "source": [
    "from sklearn.metrics import accuracy_score\n",
    "ac1 = accuracy_score(y_test,y_pred)\n",
    "ac1"
   ]
  },
  {
   "cell_type": "code",
   "execution_count": 63,
   "metadata": {},
   "outputs": [
    {
     "data": {
      "text/plain": [
       "DecisionTreeClassifier(class_weight=None, criterion='gini', max_depth=None,\n",
       "                       max_features=None, max_leaf_nodes=None,\n",
       "                       min_impurity_decrease=0.0, min_impurity_split=None,\n",
       "                       min_samples_leaf=1, min_samples_split=2,\n",
       "                       min_weight_fraction_leaf=0.0, presort=False,\n",
       "                       random_state=None, splitter='best')"
      ]
     },
     "execution_count": 63,
     "metadata": {},
     "output_type": "execute_result"
    }
   ],
   "source": [
    "# trying DecisionTree Classifier\n",
    "from sklearn.tree import DecisionTreeClassifier\n",
    "classifier=DecisionTreeClassifier()\n",
    "classifier.fit(X_train,y_train)"
   ]
  },
  {
   "cell_type": "code",
   "execution_count": 64,
   "metadata": {},
   "outputs": [],
   "source": [
    "y_pred1=classifier.predict(X_test)"
   ]
  },
  {
   "cell_type": "code",
   "execution_count": 65,
   "metadata": {},
   "outputs": [
    {
     "data": {
      "text/plain": [
       "array([[54, 19],\n",
       "       [16, 53]], dtype=int64)"
      ]
     },
     "execution_count": 65,
     "metadata": {},
     "output_type": "execute_result"
    }
   ],
   "source": [
    "cm1=confusion_matrix(y_test,y_pred1)\n",
    "cm1\n"
   ]
  },
  {
   "cell_type": "code",
   "execution_count": 66,
   "metadata": {},
   "outputs": [
    {
     "data": {
      "image/png": "[encoded data removed]",
      "text/plain": [
       "<Figure size 432x288 with 2 Axes>"
      ]
     },
     "metadata": {},
     "output_type": "display_data"
    }
   ],
   "source": [
    "df_cm = pd.DataFrame(cm1)\n",
    "# plt.figure(figsize=(10,7))\n",
    "sns.set(font_scale=1.4) # for label size\n",
    "sns.heatmap(df_cm, annot=True, annot_kws={\"size\": 16}) # font size\n",
    "\n",
    "plt.show()"
   ]
  },
  {
   "cell_type": "code",
   "execution_count": 67,
   "metadata": {},
   "outputs": [
    {
     "data": {
      "text/plain": [
       "0.7464788732394366"
      ]
     },
     "execution_count": 67,
     "metadata": {},
     "output_type": "execute_result"
    }
   ],
   "source": [
    "from sklearn.metrics import accuracy_score\n",
    "ac2 = accuracy_score(y_test,y_pred)\n",
    "ac2"
   ]
  },
  {
   "cell_type": "code",
   "execution_count": 68,
   "metadata": {},
   "outputs": [],
   "source": [
    "# importing ANN required things \n",
    "from keras.models import Sequential\n",
    "from keras.layers import Dense"
   ]
  },
  {
   "cell_type": "code",
   "execution_count": 69,
   "metadata": {},
   "outputs": [],
   "source": [
    "# initialize ANN\n",
    "classifier=Sequential()"
   ]
  },
  {
   "cell_type": "code",
   "execution_count": 70,
   "metadata": {},
   "outputs": [],
   "source": [
    "# Add input layer and 1st hidden layer\n",
    "classifier.add(Dense(units=6,kernel_initializer='uniform',activation='relu',input_dim=13))"
   ]
  },
  {
   "cell_type": "code",
   "execution_count": 71,
   "metadata": {},
   "outputs": [],
   "source": [
    "# add second hidden layer\n",
    "classifier.add(Dense(units=6,kernel_initializer='uniform',activation='relu'))"
   ]
  },
  {
   "cell_type": "code",
   "execution_count": 72,
   "metadata": {},
   "outputs": [],
   "source": [
    "# Add output layer\n",
    "classifier.add(Dense(units=1,kernel_initializer='uniform',activation='sigmoid'))"
   ]
  },
  {
   "cell_type": "code",
   "execution_count": 73,
   "metadata": {},
   "outputs": [],
   "source": [
    "# compiling ANN\n",
    "classifier.compile(optimizer='adam',loss='binary_crossentropy',metrics=['accuracy'])"
   ]
  },
  {
   "cell_type": "code",
   "execution_count": 74,
   "metadata": {},
   "outputs": [
    {
     "name": "stdout",
     "output_type": "stream",
     "text": [
      "Epoch 1/100\n",
      "566/566 [==============================] - 0s 823us/step - loss: 0.6930 - accuracy: 0.5300\n",
      "Epoch 2/100\n",
      "566/566 [==============================] - 0s 228us/step - loss: 0.6870 - accuracy: 0.7403\n",
      "Epoch 3/100\n",
      "566/566 [==============================] - 0s 212us/step - loss: 0.6565 - accuracy: 0.7403\n",
      "Epoch 4/100\n",
      "566/566 [==============================] - 0s 211us/step - loss: 0.6037 - accuracy: 0.7491\n",
      "Epoch 5/100\n",
      "566/566 [==============================] - 0s 220us/step - loss: 0.5620 - accuracy: 0.7473\n",
      "Epoch 6/100\n",
      "566/566 [==============================] - 0s 208us/step - loss: 0.5334 - accuracy: 0.7438\n",
      "Epoch 7/100\n",
      "566/566 [==============================] - 0s 210us/step - loss: 0.5144 - accuracy: 0.7385\n",
      "Epoch 8/100\n",
      "566/566 [==============================] - 0s 205us/step - loss: 0.5023 - accuracy: 0.7509\n",
      "Epoch 9/100\n",
      "566/566 [==============================] - 0s 223us/step - loss: 0.4951 - accuracy: 0.7580\n",
      "Epoch 10/100\n",
      "566/566 [==============================] - 0s 222us/step - loss: 0.4904 - accuracy: 0.7650\n",
      "Epoch 11/100\n",
      "566/566 [==============================] - 0s 207us/step - loss: 0.4875 - accuracy: 0.7633\n",
      "Epoch 12/100\n",
      "566/566 [==============================] - 0s 207us/step - loss: 0.4855 - accuracy: 0.7703\n",
      "Epoch 13/100\n",
      "566/566 [==============================] - 0s 216us/step - loss: 0.4844 - accuracy: 0.7703\n",
      "Epoch 14/100\n",
      "566/566 [==============================] - 0s 206us/step - loss: 0.4818 - accuracy: 0.7686\n",
      "Epoch 15/100\n",
      "566/566 [==============================] - 0s 216us/step - loss: 0.4804 - accuracy: 0.7703\n",
      "Epoch 16/100\n",
      "566/566 [==============================] - 0s 209us/step - loss: 0.4791 - accuracy: 0.7739\n",
      "Epoch 17/100\n",
      "566/566 [==============================] - 0s 214us/step - loss: 0.4777 - accuracy: 0.7739\n",
      "Epoch 18/100\n",
      "566/566 [==============================] - 0s 216us/step - loss: 0.4771 - accuracy: 0.7721\n",
      "Epoch 19/100\n",
      "566/566 [==============================] - 0s 217us/step - loss: 0.4755 - accuracy: 0.7792\n",
      "Epoch 20/100\n",
      "566/566 [==============================] - 0s 211us/step - loss: 0.4741 - accuracy: 0.7792\n",
      "Epoch 21/100\n",
      "566/566 [==============================] - 0s 213us/step - loss: 0.4726 - accuracy: 0.7809\n",
      "Epoch 22/100\n",
      "566/566 [==============================] - 0s 211us/step - loss: 0.4721 - accuracy: 0.7827\n",
      "Epoch 23/100\n",
      "566/566 [==============================] - 0s 211us/step - loss: 0.4711 - accuracy: 0.7792\n",
      "Epoch 24/100\n",
      "566/566 [==============================] - 0s 209us/step - loss: 0.4709 - accuracy: 0.7827\n",
      "Epoch 25/100\n",
      "566/566 [==============================] - 0s 215us/step - loss: 0.4688 - accuracy: 0.7845\n",
      "Epoch 26/100\n",
      "566/566 [==============================] - 0s 219us/step - loss: 0.4676 - accuracy: 0.7809\n",
      "Epoch 27/100\n",
      "566/566 [==============================] - 0s 210us/step - loss: 0.4671 - accuracy: 0.7809\n",
      "Epoch 28/100\n",
      "566/566 [==============================] - 0s 219us/step - loss: 0.4664 - accuracy: 0.7862\n",
      "Epoch 29/100\n",
      "566/566 [==============================] - 0s 213us/step - loss: 0.4659 - accuracy: 0.7845\n",
      "Epoch 30/100\n",
      "566/566 [==============================] - 0s 207us/step - loss: 0.4646 - accuracy: 0.7898\n",
      "Epoch 31/100\n",
      "566/566 [==============================] - 0s 216us/step - loss: 0.4644 - accuracy: 0.7933\n",
      "Epoch 32/100\n",
      "566/566 [==============================] - 0s 206us/step - loss: 0.4638 - accuracy: 0.7898\n",
      "Epoch 33/100\n",
      "566/566 [==============================] - 0s 211us/step - loss: 0.4621 - accuracy: 0.7862\n",
      "Epoch 34/100\n",
      "566/566 [==============================] - 0s 227us/step - loss: 0.4610 - accuracy: 0.7898\n",
      "Epoch 35/100\n",
      "566/566 [==============================] - 0s 218us/step - loss: 0.4604 - accuracy: 0.7951\n",
      "Epoch 36/100\n",
      "566/566 [==============================] - 0s 212us/step - loss: 0.4590 - accuracy: 0.7968\n",
      "Epoch 37/100\n",
      "566/566 [==============================] - 0s 216us/step - loss: 0.4586 - accuracy: 0.7986\n",
      "Epoch 38/100\n",
      "566/566 [==============================] - 0s 183us/step - loss: 0.4586 - accuracy: 0.7968\n",
      "Epoch 39/100\n",
      "566/566 [==============================] - 0s 161us/step - loss: 0.4569 - accuracy: 0.7915\n",
      "Epoch 40/100\n",
      "566/566 [==============================] - 0s 155us/step - loss: 0.4566 - accuracy: 0.8021\n",
      "Epoch 41/100\n",
      "566/566 [==============================] - 0s 159us/step - loss: 0.4549 - accuracy: 0.8004\n",
      "Epoch 42/100\n",
      "566/566 [==============================] - 0s 145us/step - loss: 0.4548 - accuracy: 0.8004\n",
      "Epoch 43/100\n",
      "566/566 [==============================] - 0s 127us/step - loss: 0.4533 - accuracy: 0.8004\n",
      "Epoch 44/100\n",
      "566/566 [==============================] - 0s 107us/step - loss: 0.4522 - accuracy: 0.8004\n",
      "Epoch 45/100\n",
      "566/566 [==============================] - 0s 124us/step - loss: 0.4504 - accuracy: 0.8004\n",
      "Epoch 46/100\n",
      "566/566 [==============================] - 0s 108us/step - loss: 0.4495 - accuracy: 0.7986\n",
      "Epoch 47/100\n",
      "566/566 [==============================] - 0s 115us/step - loss: 0.4493 - accuracy: 0.8039\n",
      "Epoch 48/100\n",
      "566/566 [==============================] - 0s 151us/step - loss: 0.4479 - accuracy: 0.8074\n",
      "Epoch 49/100\n",
      "566/566 [==============================] - 0s 180us/step - loss: 0.4473 - accuracy: 0.8039\n",
      "Epoch 50/100\n",
      "566/566 [==============================] - 0s 161us/step - loss: 0.4456 - accuracy: 0.8039\n",
      "Epoch 51/100\n",
      "566/566 [==============================] - 0s 140us/step - loss: 0.4451 - accuracy: 0.8039\n",
      "Epoch 52/100\n",
      "566/566 [==============================] - 0s 175us/step - loss: 0.4439 - accuracy: 0.8021\n",
      "Epoch 53/100\n",
      "566/566 [==============================] - 0s 144us/step - loss: 0.4434 - accuracy: 0.8021\n",
      "Epoch 54/100\n",
      "566/566 [==============================] - 0s 136us/step - loss: 0.4426 - accuracy: 0.8074\n",
      "Epoch 55/100\n",
      "566/566 [==============================] - 0s 193us/step - loss: 0.4418 - accuracy: 0.8039\n",
      "Epoch 56/100\n",
      "566/566 [==============================] - 0s 174us/step - loss: 0.4409 - accuracy: 0.8004\n",
      "Epoch 57/100\n",
      "566/566 [==============================] - 0s 171us/step - loss: 0.4410 - accuracy: 0.8021\n",
      "Epoch 58/100\n",
      "566/566 [==============================] - 0s 164us/step - loss: 0.4389 - accuracy: 0.8021\n",
      "Epoch 59/100\n",
      "566/566 [==============================] - 0s 163us/step - loss: 0.4388 - accuracy: 0.8110\n",
      "Epoch 60/100\n",
      "566/566 [==============================] - 0s 165us/step - loss: 0.4384 - accuracy: 0.7986\n",
      "Epoch 61/100\n",
      "566/566 [==============================] - 0s 164us/step - loss: 0.4375 - accuracy: 0.8057\n",
      "Epoch 62/100\n",
      "566/566 [==============================] - 0s 162us/step - loss: 0.4366 - accuracy: 0.8057\n",
      "Epoch 63/100\n",
      "566/566 [==============================] - 0s 164us/step - loss: 0.4355 - accuracy: 0.8039\n",
      "Epoch 64/100\n",
      "566/566 [==============================] - 0s 166us/step - loss: 0.4352 - accuracy: 0.8021\n",
      "Epoch 65/100\n",
      "566/566 [==============================] - 0s 163us/step - loss: 0.4342 - accuracy: 0.7968\n",
      "Epoch 66/100\n",
      "566/566 [==============================] - 0s 176us/step - loss: 0.4328 - accuracy: 0.8039\n",
      "Epoch 67/100\n",
      "566/566 [==============================] - 0s 166us/step - loss: 0.4322 - accuracy: 0.8039\n",
      "Epoch 68/100\n",
      "566/566 [==============================] - 0s 165us/step - loss: 0.4315 - accuracy: 0.8021\n",
      "Epoch 69/100\n",
      "566/566 [==============================] - 0s 161us/step - loss: 0.4324 - accuracy: 0.8110\n",
      "Epoch 70/100\n",
      "566/566 [==============================] - 0s 163us/step - loss: 0.4295 - accuracy: 0.8021\n",
      "Epoch 71/100\n",
      "566/566 [==============================] - 0s 166us/step - loss: 0.4291 - accuracy: 0.8057\n",
      "Epoch 72/100\n",
      "566/566 [==============================] - 0s 167us/step - loss: 0.4285 - accuracy: 0.8039\n",
      "Epoch 73/100\n",
      "566/566 [==============================] - 0s 164us/step - loss: 0.4283 - accuracy: 0.8092\n",
      "Epoch 74/100\n",
      "566/566 [==============================] - 0s 166us/step - loss: 0.4274 - accuracy: 0.8039\n",
      "Epoch 75/100\n",
      "566/566 [==============================] - 0s 164us/step - loss: 0.4267 - accuracy: 0.8092\n",
      "Epoch 76/100\n",
      "566/566 [==============================] - 0s 197us/step - loss: 0.4253 - accuracy: 0.8057\n",
      "Epoch 77/100\n",
      "566/566 [==============================] - 0s 142us/step - loss: 0.4254 - accuracy: 0.8092\n",
      "Epoch 78/100\n",
      "566/566 [==============================] - 0s 112us/step - loss: 0.4239 - accuracy: 0.8110\n",
      "Epoch 79/100\n"
     ]
    },
    {
     "name": "stdout",
     "output_type": "stream",
     "text": [
      "566/566 [==============================] - 0s 119us/step - loss: 0.4235 - accuracy: 0.8074\n",
      "Epoch 80/100\n",
      "566/566 [==============================] - 0s 142us/step - loss: 0.4244 - accuracy: 0.8092\n",
      "Epoch 81/100\n",
      "566/566 [==============================] - 0s 167us/step - loss: 0.4222 - accuracy: 0.8233\n",
      "Epoch 82/100\n",
      "566/566 [==============================] - 0s 163us/step - loss: 0.4215 - accuracy: 0.8163\n",
      "Epoch 83/100\n",
      "566/566 [==============================] - 0s 167us/step - loss: 0.4221 - accuracy: 0.8110\n",
      "Epoch 84/100\n",
      "566/566 [==============================] - 0s 163us/step - loss: 0.4200 - accuracy: 0.8057\n",
      "Epoch 85/100\n",
      "566/566 [==============================] - 0s 163us/step - loss: 0.4192 - accuracy: 0.8110\n",
      "Epoch 86/100\n",
      "566/566 [==============================] - 0s 164us/step - loss: 0.4184 - accuracy: 0.8110\n",
      "Epoch 87/100\n",
      "566/566 [==============================] - 0s 189us/step - loss: 0.4177 - accuracy: 0.8074\n",
      "Epoch 88/100\n",
      "566/566 [==============================] - 0s 131us/step - loss: 0.4185 - accuracy: 0.8163\n",
      "Epoch 89/100\n",
      "566/566 [==============================] - 0s 107us/step - loss: 0.4177 - accuracy: 0.8145\n",
      "Epoch 90/100\n",
      "566/566 [==============================] - 0s 88us/step - loss: 0.4162 - accuracy: 0.8180\n",
      "Epoch 91/100\n",
      "566/566 [==============================] - 0s 109us/step - loss: 0.4148 - accuracy: 0.8180\n",
      "Epoch 92/100\n",
      "566/566 [==============================] - 0s 109us/step - loss: 0.4152 - accuracy: 0.8180\n",
      "Epoch 93/100\n",
      "566/566 [==============================] - 0s 111us/step - loss: 0.4143 - accuracy: 0.8163\n",
      "Epoch 94/100\n",
      "566/566 [==============================] - 0s 119us/step - loss: 0.4130 - accuracy: 0.8180\n",
      "Epoch 95/100\n",
      "566/566 [==============================] - 0s 168us/step - loss: 0.4125 - accuracy: 0.8163\n",
      "Epoch 96/100\n",
      "566/566 [==============================] - 0s 159us/step - loss: 0.4117 - accuracy: 0.8163\n",
      "Epoch 97/100\n",
      "566/566 [==============================] - 0s 166us/step - loss: 0.4115 - accuracy: 0.8145\n",
      "Epoch 98/100\n",
      "566/566 [==============================] - 0s 161us/step - loss: 0.4099 - accuracy: 0.8216\n",
      "Epoch 99/100\n",
      "566/566 [==============================] - 0s 160us/step - loss: 0.4096 - accuracy: 0.8145\n",
      "Epoch 100/100\n",
      "566/566 [==============================] - 0s 179us/step - loss: 0.4089 - accuracy: 0.8198\n"
     ]
    },
    {
     "data": {
      "text/plain": [
       "<keras.callbacks.callbacks.History at 0x18b2d26b860>"
      ]
     },
     "execution_count": 74,
     "metadata": {},
     "output_type": "execute_result"
    }
   ],
   "source": [
    "# Fitting ANN\n",
    "classifier.fit(X_train,y_train,batch_size=10,nb_epoch=100)"
   ]
  },
  {
   "cell_type": "code",
   "execution_count": 75,
   "metadata": {},
   "outputs": [],
   "source": [
    "# predicting for test data\n",
    "y_pred=classifier.predict(X_test)"
   ]
  },
  {
   "cell_type": "code",
   "execution_count": 76,
   "metadata": {},
   "outputs": [],
   "source": [
    "y_pred=(y_pred>0.5)"
   ]
  },
  {
   "cell_type": "code",
   "execution_count": 77,
   "metadata": {},
   "outputs": [],
   "source": [
    "# Confusion matrix\n",
    "from sklearn.metrics import confusion_matrix\n",
    "cm2=confusion_matrix(y_test,y_pred)"
   ]
  },
  {
   "cell_type": "code",
   "execution_count": 78,
   "metadata": {},
   "outputs": [
    {
     "data": {
      "text/plain": [
       "array([[48, 25],\n",
       "       [ 9, 60]], dtype=int64)"
      ]
     },
     "execution_count": 78,
     "metadata": {},
     "output_type": "execute_result"
    }
   ],
   "source": [
    "cm2"
   ]
  },
  {
   "cell_type": "code",
   "execution_count": 79,
   "metadata": {},
   "outputs": [
    {
     "data": {
      "image/png": "[encoded data removed]",
      "text/plain": [
       "<Figure size 432x288 with 2 Axes>"
      ]
     },
     "metadata": {},
     "output_type": "display_data"
    }
   ],
   "source": [
    "df_cm = pd.DataFrame(cm2)\n",
    "# plt.figure(figsize=(10,7))\n",
    "sns.set(font_scale=1.4) # for label size\n",
    "sns.heatmap(df_cm, annot=True, annot_kws={\"size\": 16}) # font size\n",
    "\n",
    "plt.show()"
   ]
  },
  {
   "cell_type": "code",
   "execution_count": 80,
   "metadata": {},
   "outputs": [],
   "source": [
    "# getting accuracy score\n",
    "from sklearn.metrics import accuracy_score\n",
    "ac=accuracy_score(y_test,y_pred)"
   ]
  },
  {
   "cell_type": "code",
   "execution_count": 81,
   "metadata": {},
   "outputs": [
    {
     "data": {
      "text/plain": [
       "0.7605633802816901"
      ]
     },
     "execution_count": 81,
     "metadata": {},
     "output_type": "execute_result"
    }
   ],
   "source": [
    "ac"
   ]
  },
  {
   "cell_type": "code",
   "execution_count": 82,
   "metadata": {},
   "outputs": [],
   "source": [
    "#Comparing the results of the 3 models"
   ]
  },
  {
   "cell_type": "code",
   "execution_count": 83,
   "metadata": {},
   "outputs": [
    {
     "name": "stdout",
     "output_type": "stream",
     "text": [
      "{'RF': 0.823943661971831, 'ANN': 0.7605633802816901, 'DT': 0.7464788732394366}\n"
     ]
    },
    {
     "data": {
      "text/plain": [
       "([<matplotlib.axis.XTick at 0x18b36b4ce80>,\n",
       "  <matplotlib.axis.XTick at 0x18b2f590eb8>,\n",
       "  <matplotlib.axis.XTick at 0x18b36b4cac8>],\n",
       " <a list of 3 Text xticklabel objects>)"
      ]
     },
     "execution_count": 83,
     "metadata": {},
     "output_type": "execute_result"
    },
    {
     "data": {
      "image/png": "[encoded data removed]",
      "text/plain": [
       "<Figure size 432x288 with 1 Axes>"
      ]
     },
     "metadata": {},
     "output_type": "display_data"
    }
   ],
   "source": [
    "#Results = ('ac','ac1','ac2')\n",
    "r= {}\n",
    "r['RF']=ac1\n",
    "r['ANN']=ac\n",
    "r['DT']=ac2\n",
    "print(r)\n",
    "plt.bar(range(len(r)), list(r.values()), align='center')\n",
    "plt.xticks(range(len(r)), list(r.keys()))\n",
    "# sns.barplot(x='Results',y = 'target', hue='target')\n"
   ]
  },
  {
   "cell_type": "markdown",
   "metadata": {},
   "source": [
    "# Conclusion\n",
    "\n",
    "#On comparison we got to know that Random Forest can give us better prediction.\n",
    "#We have analyzed several attributes and used those factors to predict from our model."
   ]
  }
 ],
 "metadata": {
  "kernelspec": {
   "display_name": "Python 3",
   "language": "python",
   "name": "python3"
  },
  "language_info": {
   "codemirror_mode": {
    "name": "ipython",
    "version": 3
   },
   "file_extension": ".py",
   "mimetype": "text/x-python",
   "name": "python",
   "nbconvert_exporter": "python",
   "pygments_lexer": "ipython3",
   "version": "3.7.3"
  }
 },
 "nbformat": 4,
 "nbformat_minor": 2
}
